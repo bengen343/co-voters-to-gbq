{
 "cells": [
  {
   "cell_type": "code",
   "execution_count": null,
   "metadata": {},
   "outputs": [],
   "source": [
    "import os\n",
    "import glob\n",
    "\n",
    "import pandas as pd\n",
    "\n",
    "import save_to_bq\n",
    "from config import *\n",
    "\n",
    "from datetime import datetime"
   ]
  },
  {
   "cell_type": "code",
   "execution_count": null,
   "metadata": {},
   "outputs": [],
   "source": [
    "voter_file_directory = r'D:\\Users\\bengen343\\Downloads\\voter-file'"
   ]
  },
  {
   "cell_type": "code",
   "execution_count": null,
   "metadata": {},
   "outputs": [],
   "source": [
    "# Import Current Voter File\n",
    "print(\"Beginning to import current voter file at %s \" % (datetime.strftime(datetime.now(), '%H:%M:%S')))\n",
    "allFiles = glob.glob(voter_file_directory + \"/*.txt\")\n",
    "frame = pd.DataFrame()\n",
    "list_ = []\n",
    "for file_ in allFiles:\n",
    "    df = pd.read_csv(file_,sep=\",\", encoding='cp437',index_col=None, header=0, low_memory=False, error_bad_lines=False)\n",
    "    list_.append(df)\n",
    "voter_file_df = pd.concat(list_)\n",
    "\n",
    "voter_file_df.reset_index(drop=True, inplace=True)\n",
    "\n",
    "# Output the number registered voters\n",
    "print(\"Total Registration: {:,}\".format(len(voter_file_df)))\n",
    "print(\"Finished importing current voter file at %s \" % (datetime.strftime(datetime.now(), '%H:%M:%S')))"
   ]
  },
  {
   "cell_type": "code",
   "execution_count": null,
   "metadata": {},
   "outputs": [],
   "source": [
    "voter_file_df['REGISTRATION_DATE'].max()"
   ]
  },
  {
   "cell_type": "code",
   "execution_count": null,
   "metadata": {},
   "outputs": [],
   "source": [
    "print(\"Setting column datatypes\")\n",
    "for column in list(voter_file_df):\n",
    "    if 'DATE' in column:\n",
    "        voter_file_df[column] = pd.to_datetime(voter_file_df[column], format='%m/%d/%Y', infer_datetime_format=True)\n",
    "    else:\n",
    "        voter_file_df[column] = voter_file_df[column].astype('str')\n",
    "                \n",
    "    "
   ]
  },
  {
   "cell_type": "code",
   "execution_count": null,
   "metadata": {},
   "outputs": [],
   "source": [
    "print(\"Building schema\")\n",
    "bq_schema_list = save_to_bq.create_bq_schema(_df=voter_file_df)\n",
    "\n",
    "print(bq_schema_list)\n",
    "print(list(voter_file_df))"
   ]
  },
  {
   "cell_type": "code",
   "execution_count": null,
   "metadata": {},
   "outputs": [],
   "source": [
    "bq_table_id = 'cpc-datawarehouse-51210.co_voterfile.2021-06'"
   ]
  },
  {
   "cell_type": "code",
   "execution_count": null,
   "metadata": {},
   "outputs": [],
   "source": [
    "bq_table_id"
   ]
  },
  {
   "cell_type": "code",
   "execution_count": null,
   "metadata": {},
   "outputs": [],
   "source": [
    "print(\"Uploading to BigQuery\")\n",
    "save_to_bq.save_to_bq(_df=voter_file_df, bq_table_schema=bq_schema_list, table_id=bq_table_id, project_id=bq_project_id)"
   ]
  },
  {
   "cell_type": "code",
   "execution_count": null,
   "metadata": {},
   "outputs": [],
   "source": [
    " "
   ]
  }
 ],
 "metadata": {
  "kernelspec": {
   "display_name": "Python 3.7.3 ('.co-voter-file-to-bq': venv)",
   "language": "python",
   "name": "python3"
  },
  "language_info": {
   "codemirror_mode": {
    "name": "ipython",
    "version": 3
   },
   "file_extension": ".py",
   "mimetype": "text/x-python",
   "name": "python",
   "nbconvert_exporter": "python",
   "pygments_lexer": "ipython3",
   "version": "3.7.3"
  },
  "orig_nbformat": 4,
  "vscode": {
   "interpreter": {
    "hash": "1b1a28d326d5737a96bee4f7dd808c4dc47b90278f22b18585ea126bf0445486"
   }
  }
 },
 "nbformat": 4,
 "nbformat_minor": 2
}
