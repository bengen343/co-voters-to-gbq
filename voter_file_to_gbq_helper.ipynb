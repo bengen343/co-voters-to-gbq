{
 "cells": [
  {
   "cell_type": "code",
   "execution_count": 5,
   "metadata": {},
   "outputs": [],
   "source": [
    "import os\n",
    "import glob\n",
    "\n",
    "import pandas as pd\n",
    "\n",
    "import save_to_bq\n",
    "from config import *\n",
    "\n",
    "from datetime import datetime"
   ]
  },
  {
   "cell_type": "code",
   "execution_count": 2,
   "metadata": {},
   "outputs": [],
   "source": [
    "voter_file_directory = r'D:\\Users\\bengen343\\Downloads\\voter-file'"
   ]
  },
  {
   "cell_type": "code",
   "execution_count": 6,
   "metadata": {},
   "outputs": [
    {
     "name": "stdout",
     "output_type": "stream",
     "text": [
      "Beginning to import current voter file at 18:59:07 \n"
     ]
    },
    {
     "name": "stderr",
     "output_type": "stream",
     "text": [
      "d:\\Users\\bengen343\\Documents\\Constellation Political\\Python\\co-voters-to-gbq\\.co-voter-file-to-bq\\lib\\site-packages\\IPython\\core\\interactiveshell.py:3524: FutureWarning: The error_bad_lines argument has been deprecated and will be removed in a future version.\n",
      "\n",
      "\n",
      "  exec(code_obj, self.user_global_ns, self.user_ns)\n"
     ]
    },
    {
     "name": "stdout",
     "output_type": "stream",
     "text": [
      "Total Registration: 4,103,335\n",
      "Finished importing current voter file at 19:00:10 \n"
     ]
    }
   ],
   "source": [
    "# Import Current Voter File\n",
    "print(\"Beginning to import current voter file at %s \" % (datetime.strftime(datetime.now(), '%H:%M:%S')))\n",
    "allFiles = glob.glob(voter_file_directory + \"/*.txt\")\n",
    "frame = pd.DataFrame()\n",
    "list_ = []\n",
    "for file_ in allFiles:\n",
    "    df = pd.read_csv(file_,sep=\",\", encoding='cp437',index_col=None, header=0, low_memory=False, error_bad_lines=False)\n",
    "    list_.append(df)\n",
    "voter_file_df = pd.concat(list_)\n",
    "\n",
    "voter_file_df.reset_index(drop=True, inplace=True)\n",
    "\n",
    "# Output the number registered voters\n",
    "print(\"Total Registration: {:,}\".format(len(voter_file_df)))\n",
    "print(\"Finished importing current voter file at %s \" % (datetime.strftime(datetime.now(), '%H:%M:%S')))"
   ]
  },
  {
   "cell_type": "code",
   "execution_count": 10,
   "metadata": {},
   "outputs": [
    {
     "data": {
      "text/plain": [
       "Timestamp('2021-07-01 00:00:00')"
      ]
     },
     "execution_count": 10,
     "metadata": {},
     "output_type": "execute_result"
    }
   ],
   "source": [
    "voter_file_df['REGISTRATION_DATE'].max()"
   ]
  },
  {
   "cell_type": "code",
   "execution_count": 20,
   "metadata": {},
   "outputs": [
    {
     "name": "stdout",
     "output_type": "stream",
     "text": [
      "Setting column datatypes\n"
     ]
    }
   ],
   "source": [
    "print(\"Setting column datatypes\")\n",
    "for column in list(voter_file_df):\n",
    "    if 'DATE' in column:\n",
    "        voter_file_df[column] = pd.to_datetime(voter_file_df[column], format='%m/%d/%Y', infer_datetime_format=True)\n",
    "    else:\n",
    "        voter_file_df[column] = voter_file_df[column].astype('str')\n",
    "                \n",
    "    "
   ]
  },
  {
   "cell_type": "code",
   "execution_count": 21,
   "metadata": {},
   "outputs": [
    {
     "name": "stdout",
     "output_type": "stream",
     "text": [
      "Building schema\n",
      "[{'name': 'VOTER_ID', 'type': 'STRING', 'mode': 'REQUIRED'}, {'name': 'COUNTY_CODE', 'type': 'STRING', 'mode': 'NULLABLE'}, {'name': 'COUNTY', 'type': 'STRING', 'mode': 'NULLABLE'}, {'name': 'LAST_NAME', 'type': 'STRING', 'mode': 'NULLABLE'}, {'name': 'FIRST_NAME', 'type': 'STRING', 'mode': 'NULLABLE'}, {'name': 'MIDDLE_NAME', 'type': 'STRING', 'mode': 'NULLABLE'}, {'name': 'NAME_SUFFIX', 'type': 'STRING', 'mode': 'NULLABLE'}, {'name': 'VOTER_NAME', 'type': 'STRING', 'mode': 'NULLABLE'}, {'name': 'STATUS_CODE', 'type': 'STRING', 'mode': 'NULLABLE'}, {'name': 'PRECINCT_NAME', 'type': 'STRING', 'mode': 'NULLABLE'}, {'name': 'ADDRESS_LIBRARY_ID', 'type': 'STRING', 'mode': 'NULLABLE'}, {'name': 'HOUSE_NUM', 'type': 'STRING', 'mode': 'NULLABLE'}, {'name': 'HOUSE_SUFFIX', 'type': 'STRING', 'mode': 'NULLABLE'}, {'name': 'PRE_DIR', 'type': 'STRING', 'mode': 'NULLABLE'}, {'name': 'STREET_NAME', 'type': 'STRING', 'mode': 'NULLABLE'}, {'name': 'STREET_TYPE', 'type': 'STRING', 'mode': 'NULLABLE'}, {'name': 'POST_DIR', 'type': 'STRING', 'mode': 'NULLABLE'}, {'name': 'UNIT_TYPE', 'type': 'STRING', 'mode': 'NULLABLE'}, {'name': 'UNIT_NUM', 'type': 'STRING', 'mode': 'NULLABLE'}, {'name': 'RESIDENTIAL_ADDRESS', 'type': 'STRING', 'mode': 'NULLABLE'}, {'name': 'RESIDENTIAL_CITY', 'type': 'STRING', 'mode': 'NULLABLE'}, {'name': 'RESIDENTIAL_STATE', 'type': 'STRING', 'mode': 'NULLABLE'}, {'name': 'RESIDENTIAL_ZIP_CODE', 'type': 'STRING', 'mode': 'NULLABLE'}, {'name': 'RESIDENTIAL_ZIP_PLUS', 'type': 'STRING', 'mode': 'NULLABLE'}, {'name': 'EFFECTIVE_DATE', 'type': 'DATETIME', 'mode': 'NULLABLE'}, {'name': 'REGISTRATION_DATE', 'type': 'DATETIME', 'mode': 'NULLABLE'}, {'name': 'STATUS', 'type': 'STRING', 'mode': 'NULLABLE'}, {'name': 'STATUS_REASON', 'type': 'STRING', 'mode': 'NULLABLE'}, {'name': 'BIRTH_YEAR', 'type': 'STRING', 'mode': 'NULLABLE'}, {'name': 'GENDER', 'type': 'STRING', 'mode': 'NULLABLE'}, {'name': 'PRECINCT', 'type': 'STRING', 'mode': 'NULLABLE'}, {'name': 'SPLIT', 'type': 'STRING', 'mode': 'NULLABLE'}, {'name': 'VOTER_STATUS_ID', 'type': 'STRING', 'mode': 'NULLABLE'}, {'name': 'PARTY', 'type': 'STRING', 'mode': 'NULLABLE'}, {'name': 'PREFERENCE', 'type': 'STRING', 'mode': 'NULLABLE'}, {'name': 'PARTY_AFFILIATION_DATE', 'type': 'DATETIME', 'mode': 'NULLABLE'}, {'name': 'PHONE_NUM', 'type': 'STRING', 'mode': 'NULLABLE'}, {'name': 'MAIL_ADDR1', 'type': 'STRING', 'mode': 'NULLABLE'}, {'name': 'MAIL_ADDR2', 'type': 'STRING', 'mode': 'NULLABLE'}, {'name': 'MAIL_ADDR3', 'type': 'STRING', 'mode': 'NULLABLE'}, {'name': 'MAILING_CITY', 'type': 'STRING', 'mode': 'NULLABLE'}, {'name': 'MAILING_STATE', 'type': 'STRING', 'mode': 'NULLABLE'}, {'name': 'MAILING_ZIP_CODE', 'type': 'STRING', 'mode': 'NULLABLE'}, {'name': 'MAILING_ZIP_PLUS', 'type': 'STRING', 'mode': 'NULLABLE'}, {'name': 'MAILING_COUNTRY', 'type': 'STRING', 'mode': 'NULLABLE'}, {'name': 'SPL_ID', 'type': 'STRING', 'mode': 'NULLABLE'}, {'name': 'PERMANENT_MAIL_IN_VOTER', 'type': 'STRING', 'mode': 'NULLABLE'}, {'name': 'CONGRESSIONAL', 'type': 'STRING', 'mode': 'NULLABLE'}, {'name': 'STATE_SENATE', 'type': 'STRING', 'mode': 'NULLABLE'}, {'name': 'STATE_HOUSE', 'type': 'STRING', 'mode': 'NULLABLE'}, {'name': 'ID_REQUIRED', 'type': 'STRING', 'mode': 'NULLABLE'}]\n",
      "['VOTER_ID', 'COUNTY_CODE', 'COUNTY', 'LAST_NAME', 'FIRST_NAME', 'MIDDLE_NAME', 'NAME_SUFFIX', 'VOTER_NAME', 'STATUS_CODE', 'PRECINCT_NAME', 'ADDRESS_LIBRARY_ID', 'HOUSE_NUM', 'HOUSE_SUFFIX', 'PRE_DIR', 'STREET_NAME', 'STREET_TYPE', 'POST_DIR', 'UNIT_TYPE', 'UNIT_NUM', 'RESIDENTIAL_ADDRESS', 'RESIDENTIAL_CITY', 'RESIDENTIAL_STATE', 'RESIDENTIAL_ZIP_CODE', 'RESIDENTIAL_ZIP_PLUS', 'EFFECTIVE_DATE', 'REGISTRATION_DATE', 'STATUS', 'STATUS_REASON', 'BIRTH_YEAR', 'GENDER', 'PRECINCT', 'SPLIT', 'VOTER_STATUS_ID', 'PARTY', 'PREFERENCE', 'PARTY_AFFILIATION_DATE', 'PHONE_NUM', 'MAIL_ADDR1', 'MAIL_ADDR2', 'MAIL_ADDR3', 'MAILING_CITY', 'MAILING_STATE', 'MAILING_ZIP_CODE', 'MAILING_ZIP_PLUS', 'MAILING_COUNTRY', 'SPL_ID', 'PERMANENT_MAIL_IN_VOTER', 'CONGRESSIONAL', 'STATE_SENATE', 'STATE_HOUSE', 'ID_REQUIRED']\n"
     ]
    }
   ],
   "source": [
    "print(\"Building schema\")\n",
    "bq_schema_list = save_to_bq.create_bq_schema(_df=voter_file_df)\n",
    "\n",
    "print(bq_schema_list)\n",
    "print(list(voter_file_df))"
   ]
  },
  {
   "cell_type": "code",
   "execution_count": 22,
   "metadata": {},
   "outputs": [],
   "source": [
    "bq_table_id = 'cpc-datawarehouse-51210.co_voterfile.2021-06'"
   ]
  },
  {
   "cell_type": "code",
   "execution_count": 12,
   "metadata": {},
   "outputs": [
    {
     "data": {
      "text/plain": [
       "'cpc-datawarehouse-51210.co_voterfile.2021-06'"
      ]
     },
     "execution_count": 12,
     "metadata": {},
     "output_type": "execute_result"
    }
   ],
   "source": [
    "bq_table_id"
   ]
  },
  {
   "cell_type": "code",
   "execution_count": 23,
   "metadata": {},
   "outputs": [
    {
     "name": "stdout",
     "output_type": "stream",
     "text": [
      "Uploading to BigQuery\n"
     ]
    }
   ],
   "source": [
    "print(\"Uploading to BigQuery\")\n",
    "save_to_bq.save_to_bq(_df=voter_file_df, bq_table_schema=bq_schema_list, table_id=bq_table_id, project_id=bq_project_id)"
   ]
  },
  {
   "cell_type": "code",
   "execution_count": null,
   "metadata": {},
   "outputs": [],
   "source": []
  }
 ],
 "metadata": {
  "kernelspec": {
   "display_name": "Python 3.7.3 ('.co-voter-file-to-bq': venv)",
   "language": "python",
   "name": "python3"
  },
  "language_info": {
   "codemirror_mode": {
    "name": "ipython",
    "version": 3
   },
   "file_extension": ".py",
   "mimetype": "text/x-python",
   "name": "python",
   "nbconvert_exporter": "python",
   "pygments_lexer": "ipython3",
   "version": "3.7.3"
  },
  "orig_nbformat": 4,
  "vscode": {
   "interpreter": {
    "hash": "1b1a28d326d5737a96bee4f7dd808c4dc47b90278f22b18585ea126bf0445486"
   }
  }
 },
 "nbformat": 4,
 "nbformat_minor": 2
}
